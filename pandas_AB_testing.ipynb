{
  "nbformat": 4,
  "nbformat_minor": 0,
  "metadata": {
    "colab": {
      "name": "pandas_AB_testing.ipynb",
      "provenance": [],
      "authorship_tag": "ABX9TyNXiQjLL7/T+FO746wjRX5Z",
      "include_colab_link": true
    },
    "kernelspec": {
      "name": "python3",
      "display_name": "Python 3"
    }
  },
  "cells": [
    {
      "cell_type": "markdown",
      "metadata": {
        "id": "view-in-github",
        "colab_type": "text"
      },
      "source": [
        "<a href=\"https://colab.research.google.com/github/matbot/pandas_practice/blob/master/pandas_AB_testing.ipynb\" target=\"_parent\"><img src=\"https://colab.research.google.com/assets/colab-badge.svg\" alt=\"Open In Colab\"/></a>"
      ]
    },
    {
      "cell_type": "code",
      "metadata": {
        "id": "9oT0oeOmrv_U",
        "colab_type": "code",
        "colab": {}
      },
      "source": [
        "import pandas as pd"
      ],
      "execution_count": 27,
      "outputs": []
    },
    {
      "cell_type": "code",
      "metadata": {
        "id": "qHASJzUFr-y7",
        "colab_type": "code",
        "colab": {
          "base_uri": "https://localhost:8080/",
          "height": 195
        },
        "outputId": "080f666d-c098-4e00-da91-1414b684877d"
      },
      "source": [
        "ad_clicks = pd.read_csv('https://raw.githubusercontent.com/dinhanhthi/data-science-learning/master/codecademy-data-science/course-10%20Data%20Analysis%20with%20Pandas/ad_clicks.csv')\n",
        "ad_clicks.head()"
      ],
      "execution_count": 28,
      "outputs": [
        {
          "output_type": "execute_result",
          "data": {
            "text/html": [
              "<div>\n",
              "<style scoped>\n",
              "    .dataframe tbody tr th:only-of-type {\n",
              "        vertical-align: middle;\n",
              "    }\n",
              "\n",
              "    .dataframe tbody tr th {\n",
              "        vertical-align: top;\n",
              "    }\n",
              "\n",
              "    .dataframe thead th {\n",
              "        text-align: right;\n",
              "    }\n",
              "</style>\n",
              "<table border=\"1\" class=\"dataframe\">\n",
              "  <thead>\n",
              "    <tr style=\"text-align: right;\">\n",
              "      <th></th>\n",
              "      <th>user_id</th>\n",
              "      <th>utm_source</th>\n",
              "      <th>day</th>\n",
              "      <th>ad_click_timestamp</th>\n",
              "      <th>experimental_group</th>\n",
              "    </tr>\n",
              "  </thead>\n",
              "  <tbody>\n",
              "    <tr>\n",
              "      <th>0</th>\n",
              "      <td>008b7c6c-7272-471e-b90e-930d548bd8d7</td>\n",
              "      <td>google</td>\n",
              "      <td>6 - Saturday</td>\n",
              "      <td>7:18</td>\n",
              "      <td>A</td>\n",
              "    </tr>\n",
              "    <tr>\n",
              "      <th>1</th>\n",
              "      <td>009abb94-5e14-4b6c-bb1c-4f4df7aa7557</td>\n",
              "      <td>facebook</td>\n",
              "      <td>7 - Sunday</td>\n",
              "      <td>NaN</td>\n",
              "      <td>B</td>\n",
              "    </tr>\n",
              "    <tr>\n",
              "      <th>2</th>\n",
              "      <td>00f5d532-ed58-4570-b6d2-768df5f41aed</td>\n",
              "      <td>twitter</td>\n",
              "      <td>2 - Tuesday</td>\n",
              "      <td>NaN</td>\n",
              "      <td>A</td>\n",
              "    </tr>\n",
              "    <tr>\n",
              "      <th>3</th>\n",
              "      <td>011adc64-0f44-4fd9-a0bb-f1506d2ad439</td>\n",
              "      <td>google</td>\n",
              "      <td>2 - Tuesday</td>\n",
              "      <td>NaN</td>\n",
              "      <td>B</td>\n",
              "    </tr>\n",
              "    <tr>\n",
              "      <th>4</th>\n",
              "      <td>012137e6-7ae7-4649-af68-205b4702169c</td>\n",
              "      <td>facebook</td>\n",
              "      <td>7 - Sunday</td>\n",
              "      <td>NaN</td>\n",
              "      <td>B</td>\n",
              "    </tr>\n",
              "  </tbody>\n",
              "</table>\n",
              "</div>"
            ],
            "text/plain": [
              "                                user_id  ... experimental_group\n",
              "0  008b7c6c-7272-471e-b90e-930d548bd8d7  ...                  A\n",
              "1  009abb94-5e14-4b6c-bb1c-4f4df7aa7557  ...                  B\n",
              "2  00f5d532-ed58-4570-b6d2-768df5f41aed  ...                  A\n",
              "3  011adc64-0f44-4fd9-a0bb-f1506d2ad439  ...                  B\n",
              "4  012137e6-7ae7-4649-af68-205b4702169c  ...                  B\n",
              "\n",
              "[5 rows x 5 columns]"
            ]
          },
          "metadata": {
            "tags": []
          },
          "execution_count": 28
        }
      ]
    },
    {
      "cell_type": "markdown",
      "metadata": {
        "id": "Vs1_6-IHzqzm",
        "colab_type": "text"
      },
      "source": [
        "Basic Analysis"
      ]
    },
    {
      "cell_type": "code",
      "metadata": {
        "id": "Oxl-d4VesJIM",
        "colab_type": "code",
        "colab": {
          "base_uri": "https://localhost:8080/",
          "height": 166
        },
        "outputId": "59290e7b-d4b4-4cec-9c96-0b60b3b078c2"
      },
      "source": [
        "ad_clicks.groupby('utm_source').count().reset_index()"
      ],
      "execution_count": 29,
      "outputs": [
        {
          "output_type": "execute_result",
          "data": {
            "text/html": [
              "<div>\n",
              "<style scoped>\n",
              "    .dataframe tbody tr th:only-of-type {\n",
              "        vertical-align: middle;\n",
              "    }\n",
              "\n",
              "    .dataframe tbody tr th {\n",
              "        vertical-align: top;\n",
              "    }\n",
              "\n",
              "    .dataframe thead th {\n",
              "        text-align: right;\n",
              "    }\n",
              "</style>\n",
              "<table border=\"1\" class=\"dataframe\">\n",
              "  <thead>\n",
              "    <tr style=\"text-align: right;\">\n",
              "      <th></th>\n",
              "      <th>utm_source</th>\n",
              "      <th>user_id</th>\n",
              "      <th>day</th>\n",
              "      <th>ad_click_timestamp</th>\n",
              "      <th>experimental_group</th>\n",
              "    </tr>\n",
              "  </thead>\n",
              "  <tbody>\n",
              "    <tr>\n",
              "      <th>0</th>\n",
              "      <td>email</td>\n",
              "      <td>255</td>\n",
              "      <td>255</td>\n",
              "      <td>80</td>\n",
              "      <td>255</td>\n",
              "    </tr>\n",
              "    <tr>\n",
              "      <th>1</th>\n",
              "      <td>facebook</td>\n",
              "      <td>504</td>\n",
              "      <td>504</td>\n",
              "      <td>180</td>\n",
              "      <td>504</td>\n",
              "    </tr>\n",
              "    <tr>\n",
              "      <th>2</th>\n",
              "      <td>google</td>\n",
              "      <td>680</td>\n",
              "      <td>680</td>\n",
              "      <td>239</td>\n",
              "      <td>680</td>\n",
              "    </tr>\n",
              "    <tr>\n",
              "      <th>3</th>\n",
              "      <td>twitter</td>\n",
              "      <td>215</td>\n",
              "      <td>215</td>\n",
              "      <td>66</td>\n",
              "      <td>215</td>\n",
              "    </tr>\n",
              "  </tbody>\n",
              "</table>\n",
              "</div>"
            ],
            "text/plain": [
              "  utm_source  user_id  day  ad_click_timestamp  experimental_group\n",
              "0      email      255  255                  80                 255\n",
              "1   facebook      504  504                 180                 504\n",
              "2     google      680  680                 239                 680\n",
              "3    twitter      215  215                  66                 215"
            ]
          },
          "metadata": {
            "tags": []
          },
          "execution_count": 29
        }
      ]
    },
    {
      "cell_type": "code",
      "metadata": {
        "id": "-xzupflwsJkN",
        "colab_type": "code",
        "colab": {
          "base_uri": "https://localhost:8080/",
          "height": 195
        },
        "outputId": "417ddabf-55b8-4fd1-fc2c-cd21f31be05a"
      },
      "source": [
        "ad_clicks['is_click'] = ad_clicks.ad_click_timestamp.notnull()\n",
        "ad_clicks.head()"
      ],
      "execution_count": 30,
      "outputs": [
        {
          "output_type": "execute_result",
          "data": {
            "text/html": [
              "<div>\n",
              "<style scoped>\n",
              "    .dataframe tbody tr th:only-of-type {\n",
              "        vertical-align: middle;\n",
              "    }\n",
              "\n",
              "    .dataframe tbody tr th {\n",
              "        vertical-align: top;\n",
              "    }\n",
              "\n",
              "    .dataframe thead th {\n",
              "        text-align: right;\n",
              "    }\n",
              "</style>\n",
              "<table border=\"1\" class=\"dataframe\">\n",
              "  <thead>\n",
              "    <tr style=\"text-align: right;\">\n",
              "      <th></th>\n",
              "      <th>user_id</th>\n",
              "      <th>utm_source</th>\n",
              "      <th>day</th>\n",
              "      <th>ad_click_timestamp</th>\n",
              "      <th>experimental_group</th>\n",
              "      <th>is_click</th>\n",
              "    </tr>\n",
              "  </thead>\n",
              "  <tbody>\n",
              "    <tr>\n",
              "      <th>0</th>\n",
              "      <td>008b7c6c-7272-471e-b90e-930d548bd8d7</td>\n",
              "      <td>google</td>\n",
              "      <td>6 - Saturday</td>\n",
              "      <td>7:18</td>\n",
              "      <td>A</td>\n",
              "      <td>True</td>\n",
              "    </tr>\n",
              "    <tr>\n",
              "      <th>1</th>\n",
              "      <td>009abb94-5e14-4b6c-bb1c-4f4df7aa7557</td>\n",
              "      <td>facebook</td>\n",
              "      <td>7 - Sunday</td>\n",
              "      <td>NaN</td>\n",
              "      <td>B</td>\n",
              "      <td>False</td>\n",
              "    </tr>\n",
              "    <tr>\n",
              "      <th>2</th>\n",
              "      <td>00f5d532-ed58-4570-b6d2-768df5f41aed</td>\n",
              "      <td>twitter</td>\n",
              "      <td>2 - Tuesday</td>\n",
              "      <td>NaN</td>\n",
              "      <td>A</td>\n",
              "      <td>False</td>\n",
              "    </tr>\n",
              "    <tr>\n",
              "      <th>3</th>\n",
              "      <td>011adc64-0f44-4fd9-a0bb-f1506d2ad439</td>\n",
              "      <td>google</td>\n",
              "      <td>2 - Tuesday</td>\n",
              "      <td>NaN</td>\n",
              "      <td>B</td>\n",
              "      <td>False</td>\n",
              "    </tr>\n",
              "    <tr>\n",
              "      <th>4</th>\n",
              "      <td>012137e6-7ae7-4649-af68-205b4702169c</td>\n",
              "      <td>facebook</td>\n",
              "      <td>7 - Sunday</td>\n",
              "      <td>NaN</td>\n",
              "      <td>B</td>\n",
              "      <td>False</td>\n",
              "    </tr>\n",
              "  </tbody>\n",
              "</table>\n",
              "</div>"
            ],
            "text/plain": [
              "                                user_id utm_source  ... experimental_group is_click\n",
              "0  008b7c6c-7272-471e-b90e-930d548bd8d7     google  ...                  A     True\n",
              "1  009abb94-5e14-4b6c-bb1c-4f4df7aa7557   facebook  ...                  B    False\n",
              "2  00f5d532-ed58-4570-b6d2-768df5f41aed    twitter  ...                  A    False\n",
              "3  011adc64-0f44-4fd9-a0bb-f1506d2ad439     google  ...                  B    False\n",
              "4  012137e6-7ae7-4649-af68-205b4702169c   facebook  ...                  B    False\n",
              "\n",
              "[5 rows x 6 columns]"
            ]
          },
          "metadata": {
            "tags": []
          },
          "execution_count": 30
        }
      ]
    },
    {
      "cell_type": "code",
      "metadata": {
        "id": "93ZYAtyVsJnc",
        "colab_type": "code",
        "colab": {
          "base_uri": "https://localhost:8080/",
          "height": 284
        },
        "outputId": "f7c3fec0-2263-424e-8fe3-55a26d7e4a55"
      },
      "source": [
        "clicks_by_source = ad_clicks.groupby(['utm_source', 'is_click']).user_id.count().reset_index()\n",
        "clicks_by_source"
      ],
      "execution_count": 31,
      "outputs": [
        {
          "output_type": "execute_result",
          "data": {
            "text/html": [
              "<div>\n",
              "<style scoped>\n",
              "    .dataframe tbody tr th:only-of-type {\n",
              "        vertical-align: middle;\n",
              "    }\n",
              "\n",
              "    .dataframe tbody tr th {\n",
              "        vertical-align: top;\n",
              "    }\n",
              "\n",
              "    .dataframe thead th {\n",
              "        text-align: right;\n",
              "    }\n",
              "</style>\n",
              "<table border=\"1\" class=\"dataframe\">\n",
              "  <thead>\n",
              "    <tr style=\"text-align: right;\">\n",
              "      <th></th>\n",
              "      <th>utm_source</th>\n",
              "      <th>is_click</th>\n",
              "      <th>user_id</th>\n",
              "    </tr>\n",
              "  </thead>\n",
              "  <tbody>\n",
              "    <tr>\n",
              "      <th>0</th>\n",
              "      <td>email</td>\n",
              "      <td>False</td>\n",
              "      <td>175</td>\n",
              "    </tr>\n",
              "    <tr>\n",
              "      <th>1</th>\n",
              "      <td>email</td>\n",
              "      <td>True</td>\n",
              "      <td>80</td>\n",
              "    </tr>\n",
              "    <tr>\n",
              "      <th>2</th>\n",
              "      <td>facebook</td>\n",
              "      <td>False</td>\n",
              "      <td>324</td>\n",
              "    </tr>\n",
              "    <tr>\n",
              "      <th>3</th>\n",
              "      <td>facebook</td>\n",
              "      <td>True</td>\n",
              "      <td>180</td>\n",
              "    </tr>\n",
              "    <tr>\n",
              "      <th>4</th>\n",
              "      <td>google</td>\n",
              "      <td>False</td>\n",
              "      <td>441</td>\n",
              "    </tr>\n",
              "    <tr>\n",
              "      <th>5</th>\n",
              "      <td>google</td>\n",
              "      <td>True</td>\n",
              "      <td>239</td>\n",
              "    </tr>\n",
              "    <tr>\n",
              "      <th>6</th>\n",
              "      <td>twitter</td>\n",
              "      <td>False</td>\n",
              "      <td>149</td>\n",
              "    </tr>\n",
              "    <tr>\n",
              "      <th>7</th>\n",
              "      <td>twitter</td>\n",
              "      <td>True</td>\n",
              "      <td>66</td>\n",
              "    </tr>\n",
              "  </tbody>\n",
              "</table>\n",
              "</div>"
            ],
            "text/plain": [
              "  utm_source  is_click  user_id\n",
              "0      email     False      175\n",
              "1      email      True       80\n",
              "2   facebook     False      324\n",
              "3   facebook      True      180\n",
              "4     google     False      441\n",
              "5     google      True      239\n",
              "6    twitter     False      149\n",
              "7    twitter      True       66"
            ]
          },
          "metadata": {
            "tags": []
          },
          "execution_count": 31
        }
      ]
    },
    {
      "cell_type": "code",
      "metadata": {
        "id": "fEPMq9xgsJqF",
        "colab_type": "code",
        "colab": {
          "base_uri": "https://localhost:8080/",
          "height": 195
        },
        "outputId": "75d772c1-3ce0-4d6e-8890-22e6d520dc80"
      },
      "source": [
        "clicks_pivot = clicks_by_source.pivot('utm_source', 'is_click', 'user_id')\n",
        "clicks_pivot"
      ],
      "execution_count": 32,
      "outputs": [
        {
          "output_type": "execute_result",
          "data": {
            "text/html": [
              "<div>\n",
              "<style scoped>\n",
              "    .dataframe tbody tr th:only-of-type {\n",
              "        vertical-align: middle;\n",
              "    }\n",
              "\n",
              "    .dataframe tbody tr th {\n",
              "        vertical-align: top;\n",
              "    }\n",
              "\n",
              "    .dataframe thead th {\n",
              "        text-align: right;\n",
              "    }\n",
              "</style>\n",
              "<table border=\"1\" class=\"dataframe\">\n",
              "  <thead>\n",
              "    <tr style=\"text-align: right;\">\n",
              "      <th>is_click</th>\n",
              "      <th>False</th>\n",
              "      <th>True</th>\n",
              "    </tr>\n",
              "    <tr>\n",
              "      <th>utm_source</th>\n",
              "      <th></th>\n",
              "      <th></th>\n",
              "    </tr>\n",
              "  </thead>\n",
              "  <tbody>\n",
              "    <tr>\n",
              "      <th>email</th>\n",
              "      <td>175</td>\n",
              "      <td>80</td>\n",
              "    </tr>\n",
              "    <tr>\n",
              "      <th>facebook</th>\n",
              "      <td>324</td>\n",
              "      <td>180</td>\n",
              "    </tr>\n",
              "    <tr>\n",
              "      <th>google</th>\n",
              "      <td>441</td>\n",
              "      <td>239</td>\n",
              "    </tr>\n",
              "    <tr>\n",
              "      <th>twitter</th>\n",
              "      <td>149</td>\n",
              "      <td>66</td>\n",
              "    </tr>\n",
              "  </tbody>\n",
              "</table>\n",
              "</div>"
            ],
            "text/plain": [
              "is_click    False  True \n",
              "utm_source              \n",
              "email         175     80\n",
              "facebook      324    180\n",
              "google        441    239\n",
              "twitter       149     66"
            ]
          },
          "metadata": {
            "tags": []
          },
          "execution_count": 32
        }
      ]
    },
    {
      "cell_type": "code",
      "metadata": {
        "id": "bVWqAbCUsJso",
        "colab_type": "code",
        "colab": {
          "base_uri": "https://localhost:8080/",
          "height": 195
        },
        "outputId": "29d3aa06-792d-4c98-ba02-c8f627bbd42d"
      },
      "source": [
        "clicks_pivot['percent_clicked'] = clicks_pivot[True] / (clicks_pivot[True] + clicks_pivot[False]) * 100\n",
        "clicks_pivot"
      ],
      "execution_count": 33,
      "outputs": [
        {
          "output_type": "execute_result",
          "data": {
            "text/html": [
              "<div>\n",
              "<style scoped>\n",
              "    .dataframe tbody tr th:only-of-type {\n",
              "        vertical-align: middle;\n",
              "    }\n",
              "\n",
              "    .dataframe tbody tr th {\n",
              "        vertical-align: top;\n",
              "    }\n",
              "\n",
              "    .dataframe thead th {\n",
              "        text-align: right;\n",
              "    }\n",
              "</style>\n",
              "<table border=\"1\" class=\"dataframe\">\n",
              "  <thead>\n",
              "    <tr style=\"text-align: right;\">\n",
              "      <th>is_click</th>\n",
              "      <th>False</th>\n",
              "      <th>True</th>\n",
              "      <th>percent_clicked</th>\n",
              "    </tr>\n",
              "    <tr>\n",
              "      <th>utm_source</th>\n",
              "      <th></th>\n",
              "      <th></th>\n",
              "      <th></th>\n",
              "    </tr>\n",
              "  </thead>\n",
              "  <tbody>\n",
              "    <tr>\n",
              "      <th>email</th>\n",
              "      <td>175</td>\n",
              "      <td>80</td>\n",
              "      <td>31.372549</td>\n",
              "    </tr>\n",
              "    <tr>\n",
              "      <th>facebook</th>\n",
              "      <td>324</td>\n",
              "      <td>180</td>\n",
              "      <td>35.714286</td>\n",
              "    </tr>\n",
              "    <tr>\n",
              "      <th>google</th>\n",
              "      <td>441</td>\n",
              "      <td>239</td>\n",
              "      <td>35.147059</td>\n",
              "    </tr>\n",
              "    <tr>\n",
              "      <th>twitter</th>\n",
              "      <td>149</td>\n",
              "      <td>66</td>\n",
              "      <td>30.697674</td>\n",
              "    </tr>\n",
              "  </tbody>\n",
              "</table>\n",
              "</div>"
            ],
            "text/plain": [
              "is_click    False  True  percent_clicked\n",
              "utm_source                              \n",
              "email         175    80        31.372549\n",
              "facebook      324   180        35.714286\n",
              "google        441   239        35.147059\n",
              "twitter       149    66        30.697674"
            ]
          },
          "metadata": {
            "tags": []
          },
          "execution_count": 33
        }
      ]
    },
    {
      "cell_type": "markdown",
      "metadata": {
        "id": "oL9owepDzxZW",
        "colab_type": "text"
      },
      "source": [
        "A/B Test Analysis"
      ]
    },
    {
      "cell_type": "code",
      "metadata": {
        "id": "jbiaTnE4sJvr",
        "colab_type": "code",
        "colab": {
          "base_uri": "https://localhost:8080/",
          "height": 106
        },
        "outputId": "bb32f68a-70bc-4c7b-bd0b-cbea3a01da87"
      },
      "source": [
        "ad_clicks.groupby('experimental_group').user_id.count().reset_index()"
      ],
      "execution_count": 34,
      "outputs": [
        {
          "output_type": "execute_result",
          "data": {
            "text/html": [
              "<div>\n",
              "<style scoped>\n",
              "    .dataframe tbody tr th:only-of-type {\n",
              "        vertical-align: middle;\n",
              "    }\n",
              "\n",
              "    .dataframe tbody tr th {\n",
              "        vertical-align: top;\n",
              "    }\n",
              "\n",
              "    .dataframe thead th {\n",
              "        text-align: right;\n",
              "    }\n",
              "</style>\n",
              "<table border=\"1\" class=\"dataframe\">\n",
              "  <thead>\n",
              "    <tr style=\"text-align: right;\">\n",
              "      <th></th>\n",
              "      <th>experimental_group</th>\n",
              "      <th>user_id</th>\n",
              "    </tr>\n",
              "  </thead>\n",
              "  <tbody>\n",
              "    <tr>\n",
              "      <th>0</th>\n",
              "      <td>A</td>\n",
              "      <td>827</td>\n",
              "    </tr>\n",
              "    <tr>\n",
              "      <th>1</th>\n",
              "      <td>B</td>\n",
              "      <td>827</td>\n",
              "    </tr>\n",
              "  </tbody>\n",
              "</table>\n",
              "</div>"
            ],
            "text/plain": [
              "  experimental_group  user_id\n",
              "0                  A      827\n",
              "1                  B      827"
            ]
          },
          "metadata": {
            "tags": []
          },
          "execution_count": 34
        }
      ]
    },
    {
      "cell_type": "code",
      "metadata": {
        "id": "dmandC_I0VKj",
        "colab_type": "code",
        "colab": {
          "base_uri": "https://localhost:8080/",
          "height": 166
        },
        "outputId": "349cabbf-6ff6-47a2-b3d2-ed683370cb93"
      },
      "source": [
        "ab_clicks = ad_clicks.groupby(['experimental_group', 'is_click']).user_id.count().reset_index()\n",
        "ab_clicks"
      ],
      "execution_count": 35,
      "outputs": [
        {
          "output_type": "execute_result",
          "data": {
            "text/html": [
              "<div>\n",
              "<style scoped>\n",
              "    .dataframe tbody tr th:only-of-type {\n",
              "        vertical-align: middle;\n",
              "    }\n",
              "\n",
              "    .dataframe tbody tr th {\n",
              "        vertical-align: top;\n",
              "    }\n",
              "\n",
              "    .dataframe thead th {\n",
              "        text-align: right;\n",
              "    }\n",
              "</style>\n",
              "<table border=\"1\" class=\"dataframe\">\n",
              "  <thead>\n",
              "    <tr style=\"text-align: right;\">\n",
              "      <th></th>\n",
              "      <th>experimental_group</th>\n",
              "      <th>is_click</th>\n",
              "      <th>user_id</th>\n",
              "    </tr>\n",
              "  </thead>\n",
              "  <tbody>\n",
              "    <tr>\n",
              "      <th>0</th>\n",
              "      <td>A</td>\n",
              "      <td>False</td>\n",
              "      <td>517</td>\n",
              "    </tr>\n",
              "    <tr>\n",
              "      <th>1</th>\n",
              "      <td>A</td>\n",
              "      <td>True</td>\n",
              "      <td>310</td>\n",
              "    </tr>\n",
              "    <tr>\n",
              "      <th>2</th>\n",
              "      <td>B</td>\n",
              "      <td>False</td>\n",
              "      <td>572</td>\n",
              "    </tr>\n",
              "    <tr>\n",
              "      <th>3</th>\n",
              "      <td>B</td>\n",
              "      <td>True</td>\n",
              "      <td>255</td>\n",
              "    </tr>\n",
              "  </tbody>\n",
              "</table>\n",
              "</div>"
            ],
            "text/plain": [
              "  experimental_group  is_click  user_id\n",
              "0                  A     False      517\n",
              "1                  A      True      310\n",
              "2                  B     False      572\n",
              "3                  B      True      255"
            ]
          },
          "metadata": {
            "tags": []
          },
          "execution_count": 35
        }
      ]
    },
    {
      "cell_type": "code",
      "metadata": {
        "id": "DsxAOh921WrT",
        "colab_type": "code",
        "colab": {
          "base_uri": "https://localhost:8080/",
          "height": 136
        },
        "outputId": "fb812c4f-cef1-4b7f-ad43-8994e3b33db5"
      },
      "source": [
        "ab_clicks_pivot = ab_clicks.pivot('experimental_group', 'is_click', 'user_id')\n",
        "ab_clicks_pivot"
      ],
      "execution_count": 36,
      "outputs": [
        {
          "output_type": "execute_result",
          "data": {
            "text/html": [
              "<div>\n",
              "<style scoped>\n",
              "    .dataframe tbody tr th:only-of-type {\n",
              "        vertical-align: middle;\n",
              "    }\n",
              "\n",
              "    .dataframe tbody tr th {\n",
              "        vertical-align: top;\n",
              "    }\n",
              "\n",
              "    .dataframe thead th {\n",
              "        text-align: right;\n",
              "    }\n",
              "</style>\n",
              "<table border=\"1\" class=\"dataframe\">\n",
              "  <thead>\n",
              "    <tr style=\"text-align: right;\">\n",
              "      <th>is_click</th>\n",
              "      <th>False</th>\n",
              "      <th>True</th>\n",
              "    </tr>\n",
              "    <tr>\n",
              "      <th>experimental_group</th>\n",
              "      <th></th>\n",
              "      <th></th>\n",
              "    </tr>\n",
              "  </thead>\n",
              "  <tbody>\n",
              "    <tr>\n",
              "      <th>A</th>\n",
              "      <td>517</td>\n",
              "      <td>310</td>\n",
              "    </tr>\n",
              "    <tr>\n",
              "      <th>B</th>\n",
              "      <td>572</td>\n",
              "      <td>255</td>\n",
              "    </tr>\n",
              "  </tbody>\n",
              "</table>\n",
              "</div>"
            ],
            "text/plain": [
              "is_click            False  True \n",
              "experimental_group              \n",
              "A                     517    310\n",
              "B                     572    255"
            ]
          },
          "metadata": {
            "tags": []
          },
          "execution_count": 36
        }
      ]
    },
    {
      "cell_type": "code",
      "metadata": {
        "id": "rDQdtVNQ2st0",
        "colab_type": "code",
        "colab": {
          "base_uri": "https://localhost:8080/",
          "height": 254
        },
        "outputId": "4b33fe8c-e100-4171-b83e-4cf039d6fbcb"
      },
      "source": [
        "a_clicks = ad_clicks[ad_clicks.experimental_group == 'A']\n",
        "\n",
        "a_clicks_pivot = a_clicks.groupby(['day', 'is_click']).user_id.count()\\\n",
        "  .reset_index()\\\n",
        "  .pivot('day', 'is_click', 'user_id')\\\n",
        "  .reset_index()\n",
        "\n",
        "a_clicks_pivot['percent_clicked'] = a_clicks_pivot[True] / (a_clicks_pivot[True] + a_clicks_pivot[False]) * 100\n",
        "\n",
        "a_clicks_pivot"
      ],
      "execution_count": 56,
      "outputs": [
        {
          "output_type": "execute_result",
          "data": {
            "text/html": [
              "<div>\n",
              "<style scoped>\n",
              "    .dataframe tbody tr th:only-of-type {\n",
              "        vertical-align: middle;\n",
              "    }\n",
              "\n",
              "    .dataframe tbody tr th {\n",
              "        vertical-align: top;\n",
              "    }\n",
              "\n",
              "    .dataframe thead th {\n",
              "        text-align: right;\n",
              "    }\n",
              "</style>\n",
              "<table border=\"1\" class=\"dataframe\">\n",
              "  <thead>\n",
              "    <tr style=\"text-align: right;\">\n",
              "      <th>is_click</th>\n",
              "      <th>day</th>\n",
              "      <th>False</th>\n",
              "      <th>True</th>\n",
              "      <th>percent_clicked</th>\n",
              "    </tr>\n",
              "  </thead>\n",
              "  <tbody>\n",
              "    <tr>\n",
              "      <th>0</th>\n",
              "      <td>1 - Monday</td>\n",
              "      <td>70</td>\n",
              "      <td>43</td>\n",
              "      <td>38.053097</td>\n",
              "    </tr>\n",
              "    <tr>\n",
              "      <th>1</th>\n",
              "      <td>2 - Tuesday</td>\n",
              "      <td>76</td>\n",
              "      <td>43</td>\n",
              "      <td>36.134454</td>\n",
              "    </tr>\n",
              "    <tr>\n",
              "      <th>2</th>\n",
              "      <td>3 - Wednesday</td>\n",
              "      <td>86</td>\n",
              "      <td>38</td>\n",
              "      <td>30.645161</td>\n",
              "    </tr>\n",
              "    <tr>\n",
              "      <th>3</th>\n",
              "      <td>4 - Thursday</td>\n",
              "      <td>69</td>\n",
              "      <td>47</td>\n",
              "      <td>40.517241</td>\n",
              "    </tr>\n",
              "    <tr>\n",
              "      <th>4</th>\n",
              "      <td>5 - Friday</td>\n",
              "      <td>77</td>\n",
              "      <td>51</td>\n",
              "      <td>39.843750</td>\n",
              "    </tr>\n",
              "    <tr>\n",
              "      <th>5</th>\n",
              "      <td>6 - Saturday</td>\n",
              "      <td>73</td>\n",
              "      <td>45</td>\n",
              "      <td>38.135593</td>\n",
              "    </tr>\n",
              "    <tr>\n",
              "      <th>6</th>\n",
              "      <td>7 - Sunday</td>\n",
              "      <td>66</td>\n",
              "      <td>43</td>\n",
              "      <td>39.449541</td>\n",
              "    </tr>\n",
              "  </tbody>\n",
              "</table>\n",
              "</div>"
            ],
            "text/plain": [
              "is_click            day  False  True  percent_clicked\n",
              "0            1 - Monday     70    43        38.053097\n",
              "1           2 - Tuesday     76    43        36.134454\n",
              "2         3 - Wednesday     86    38        30.645161\n",
              "3          4 - Thursday     69    47        40.517241\n",
              "4            5 - Friday     77    51        39.843750\n",
              "5          6 - Saturday     73    45        38.135593\n",
              "6            7 - Sunday     66    43        39.449541"
            ]
          },
          "metadata": {
            "tags": []
          },
          "execution_count": 56
        }
      ]
    },
    {
      "cell_type": "code",
      "metadata": {
        "id": "A1KPNF-m2tgW",
        "colab_type": "code",
        "colab": {
          "base_uri": "https://localhost:8080/",
          "height": 254
        },
        "outputId": "504adce8-3107-44d7-ad87-3c61b1c5d169"
      },
      "source": [
        "b_clicks = ad_clicks[ad_clicks.experimental_group == 'B']\n",
        "\n",
        "b_clicks_pivot = b_clicks.groupby(['day', 'is_click']).user_id.count()\\\n",
        "  .reset_index()\\\n",
        "  .pivot('day', 'is_click', 'user_id')\\\n",
        "  .reset_index()\n",
        "\n",
        "b_clicks_pivot['percent_clicked'] = b_clicks_pivot[True] / (b_clicks_pivot[True] + b_clicks_pivot[False]) * 100\n",
        "\n",
        "b_clicks_pivot"
      ],
      "execution_count": 57,
      "outputs": [
        {
          "output_type": "execute_result",
          "data": {
            "text/html": [
              "<div>\n",
              "<style scoped>\n",
              "    .dataframe tbody tr th:only-of-type {\n",
              "        vertical-align: middle;\n",
              "    }\n",
              "\n",
              "    .dataframe tbody tr th {\n",
              "        vertical-align: top;\n",
              "    }\n",
              "\n",
              "    .dataframe thead th {\n",
              "        text-align: right;\n",
              "    }\n",
              "</style>\n",
              "<table border=\"1\" class=\"dataframe\">\n",
              "  <thead>\n",
              "    <tr style=\"text-align: right;\">\n",
              "      <th>is_click</th>\n",
              "      <th>day</th>\n",
              "      <th>False</th>\n",
              "      <th>True</th>\n",
              "      <th>percent_clicked</th>\n",
              "    </tr>\n",
              "  </thead>\n",
              "  <tbody>\n",
              "    <tr>\n",
              "      <th>0</th>\n",
              "      <td>1 - Monday</td>\n",
              "      <td>81</td>\n",
              "      <td>32</td>\n",
              "      <td>28.318584</td>\n",
              "    </tr>\n",
              "    <tr>\n",
              "      <th>1</th>\n",
              "      <td>2 - Tuesday</td>\n",
              "      <td>74</td>\n",
              "      <td>45</td>\n",
              "      <td>37.815126</td>\n",
              "    </tr>\n",
              "    <tr>\n",
              "      <th>2</th>\n",
              "      <td>3 - Wednesday</td>\n",
              "      <td>89</td>\n",
              "      <td>35</td>\n",
              "      <td>28.225806</td>\n",
              "    </tr>\n",
              "    <tr>\n",
              "      <th>3</th>\n",
              "      <td>4 - Thursday</td>\n",
              "      <td>87</td>\n",
              "      <td>29</td>\n",
              "      <td>25.000000</td>\n",
              "    </tr>\n",
              "    <tr>\n",
              "      <th>4</th>\n",
              "      <td>5 - Friday</td>\n",
              "      <td>90</td>\n",
              "      <td>38</td>\n",
              "      <td>29.687500</td>\n",
              "    </tr>\n",
              "    <tr>\n",
              "      <th>5</th>\n",
              "      <td>6 - Saturday</td>\n",
              "      <td>76</td>\n",
              "      <td>42</td>\n",
              "      <td>35.593220</td>\n",
              "    </tr>\n",
              "    <tr>\n",
              "      <th>6</th>\n",
              "      <td>7 - Sunday</td>\n",
              "      <td>75</td>\n",
              "      <td>34</td>\n",
              "      <td>31.192661</td>\n",
              "    </tr>\n",
              "  </tbody>\n",
              "</table>\n",
              "</div>"
            ],
            "text/plain": [
              "is_click            day  False  True  percent_clicked\n",
              "0            1 - Monday     81    32        28.318584\n",
              "1           2 - Tuesday     74    45        37.815126\n",
              "2         3 - Wednesday     89    35        28.225806\n",
              "3          4 - Thursday     87    29        25.000000\n",
              "4            5 - Friday     90    38        29.687500\n",
              "5          6 - Saturday     76    42        35.593220\n",
              "6            7 - Sunday     75    34        31.192661"
            ]
          },
          "metadata": {
            "tags": []
          },
          "execution_count": 57
        }
      ]
    }
  ]
}