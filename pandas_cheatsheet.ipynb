{
  "nbformat": 4,
  "nbformat_minor": 0,
  "metadata": {
    "colab": {
      "name": "pandas_cheatsheet.ipynb",
      "provenance": [],
      "authorship_tag": "ABX9TyNII2w3FvVKOfmQyLqvFsvL",
      "include_colab_link": true
    },
    "kernelspec": {
      "name": "python3",
      "display_name": "Python 3"
    }
  },
  "cells": [
    {
      "cell_type": "markdown",
      "metadata": {
        "id": "view-in-github",
        "colab_type": "text"
      },
      "source": [
        "<a href=\"https://colab.research.google.com/github/matbot/pandas_practice/blob/master/pandas_cheatsheet.ipynb\" target=\"_parent\"><img src=\"https://colab.research.google.com/assets/colab-badge.svg\" alt=\"Open In Colab\"/></a>"
      ]
    },
    {
      "cell_type": "code",
      "metadata": {
        "id": "JonLmFhLezCH",
        "colab_type": "code",
        "colab": {}
      },
      "source": [
        "import pandas as pd"
      ],
      "execution_count": 1,
      "outputs": []
    },
    {
      "cell_type": "code",
      "metadata": {
        "id": "IMcppCYAfuBI",
        "colab_type": "code",
        "colab": {}
      },
      "source": [
        "# Ways of creating a Pandas DataFrame\n",
        "# Passing in a dictionary:\n",
        "data = {'var':['x', 'y'], 'val':[30, 28]}\n",
        "df = pd.DataFrame(data)\n",
        "\n",
        "# Passing in a list of lists:\n",
        "data = [['x', 20], ['y', 30], ['z', 25]]\n",
        "df = pd.DataFrame(data, columns = ['var', 'val'])\n",
        "\n",
        "# Reading data from a csv file:\n",
        "df = pd.read_csv('mnist_test.csv')"
      ],
      "execution_count": null,
      "outputs": []
    },
    {
      "cell_type": "code",
      "metadata": {
        "id": "Zw9movKpgJWA",
        "colab_type": "code",
        "colab": {}
      },
      "source": [
        "## Return a selected dataframe:\n",
        "# Selecting rows where val > 20\n",
        "df[df.val > 20]\n",
        "\n",
        "# Selecting rows where var != x\n",
        "df[df.var != \"x\"]\n",
        "\n",
        "# Selecting rows where val is less than 10\n",
        "# OR greater than 70\n",
        "df[(df.val < 10) | (df.val > 70)]"
      ],
      "execution_count": null,
      "outputs": []
    },
    {
      "cell_type": "code",
      "metadata": {
        "id": "B-7YvSqAhcMK",
        "colab_type": "code",
        "colab": {}
      },
      "source": [
        "## Alter a column with apply():\n",
        "# This function doubles the input value\n",
        "def double(x):\n",
        "  return 2*x\n",
        "\n",
        "# Apply this function to double every value in a specified column\n",
        "df.val = df.val.apply(double)\n",
        "\n",
        "# Lambda functions can also be supplied to `apply()`\n",
        "df.val = df.val.apply(lambda x : 3*x)"
      ],
      "execution_count": null,
      "outputs": []
    },
    {
      "cell_type": "code",
      "metadata": {
        "id": "thtIHBY2hdb5",
        "colab_type": "code",
        "colab": {}
      },
      "source": [
        "## Create a new column:\n",
        "# Specifying each value in the new column:\n",
        "df['x1'] = [1, 2, 3, 4]\n",
        "\n",
        "# Setting each row in the new column to the same value:\n",
        "df['x2'] = 1\n",
        "\n",
        "# Creating a new column by doing a \n",
        "# calculation on an existing column:\n",
        "df['x5'] = df['x'] * 5"
      ],
      "execution_count": null,
      "outputs": []
    },
    {
      "cell_type": "code",
      "metadata": {
        "id": "AGabVuXrhc87",
        "colab_type": "code",
        "colab": {}
      },
      "source": [
        "## Groupby:\n",
        "df = pd.DataFrame([\n",
        "  [\"Amy\",\"Assignment 1\",75],\n",
        "  [\"Amy\",\"Assignment 2\",35],\n",
        "  [\"Bob\",\"Assignment 1\",99],\n",
        "  [\"Bob\",\"Assignment 2\",35]\n",
        "  ], columns=[\"Name\", \"Assignment\", \"Grade\"])\n",
        "\n",
        "df.groupby('Name').Grade.mean()\n",
        "\n",
        "# output of the groupby command\n",
        "|Name | Grade|\n",
        "| -  | - |\n",
        "|Amy | 55|\n",
        "|Bob |  67|"
      ],
      "execution_count": null,
      "outputs": []
    },
    {
      "cell_type": "code",
      "metadata": {
        "id": "1cUIwqb8o4sp",
        "colab_type": "code",
        "colab": {}
      },
      "source": [
        "## Aggregates\n",
        "df.columnName.mean() # Average of all values in column\n",
        "df.columnName.std() # Standard deviation of column\n",
        "df.columnName.median() # Median value of column\n",
        "df.columnName.max() # Maximum value in column\n",
        "df.columnName.min() # Minimum value in column\n",
        "df.columnName.count() # Number of values in column\n",
        "df.columnName.nunique() # Number of unique values in column\n",
        "df.columnName.unique() # List of unique values in column"
      ],
      "execution_count": null,
      "outputs": []
    },
    {
      "cell_type": "code",
      "metadata": {
        "id": "Ysk6MXSlpXTV",
        "colab_type": "code",
        "colab": {}
      },
      "source": [
        ""
      ],
      "execution_count": null,
      "outputs": []
    }
  ]
}