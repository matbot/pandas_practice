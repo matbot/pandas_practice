{
  "nbformat": 4,
  "nbformat_minor": 0,
  "metadata": {
    "colab": {
      "name": "pandas_multitable.ipynb",
      "provenance": [],
      "toc_visible": true,
      "authorship_tag": "ABX9TyMyOKiN2GlxMiHc6iNf+4HN",
      "include_colab_link": true
    },
    "kernelspec": {
      "name": "python3",
      "display_name": "Python 3"
    }
  },
  "cells": [
    {
      "cell_type": "markdown",
      "metadata": {
        "id": "view-in-github",
        "colab_type": "text"
      },
      "source": [
        "<a href=\"https://colab.research.google.com/github/matbot/pandas_practice/blob/master/pandas_multitable.ipynb\" target=\"_parent\"><img src=\"https://colab.research.google.com/assets/colab-badge.svg\" alt=\"Open In Colab\"/></a>"
      ]
    },
    {
      "cell_type": "code",
      "metadata": {
        "id": "DpCTowK9n4mj",
        "colab_type": "code",
        "colab": {}
      },
      "source": [
        "import pandas as pd;"
      ],
      "execution_count": 16,
      "outputs": []
    },
    {
      "cell_type": "markdown",
      "metadata": {
        "id": "EEhOZmwwbXoD",
        "colab_type": "text"
      },
      "source": [
        "# Create/Import DataFrames"
      ]
    },
    {
      "cell_type": "code",
      "metadata": {
        "id": "Kt-G2y3Ln_CU",
        "colab_type": "code",
        "colab": {
          "base_uri": "https://localhost:8080/",
          "height": 195
        },
        "outputId": "f510f9ed-9875-4036-aa62-9629ae8c5a8c"
      },
      "source": [
        "data = [\n",
        "  [1,2,3,1,'2017-01-01'],\n",
        "  [2,2,2,3,'2017-01-01'],\n",
        "  [3,3,1,1,'2017-01-01'],\n",
        "  [4,3,2,2,'2017-02-01'],\n",
        "  [6,1,4,2,'2017-03-01'],\n",
        "  [7,1,1,1,'2017-02-02'],\n",
        "  [8,1,4,1,'2017-02-02']  \n",
        "]\n",
        "orders = pd.DataFrame(data, columns = ['order_id','customer_id','product_id','quantity','timestamp'])\n",
        "\n",
        "orders.head()\n"
      ],
      "execution_count": 32,
      "outputs": [
        {
          "output_type": "execute_result",
          "data": {
            "text/html": [
              "<div>\n",
              "<style scoped>\n",
              "    .dataframe tbody tr th:only-of-type {\n",
              "        vertical-align: middle;\n",
              "    }\n",
              "\n",
              "    .dataframe tbody tr th {\n",
              "        vertical-align: top;\n",
              "    }\n",
              "\n",
              "    .dataframe thead th {\n",
              "        text-align: right;\n",
              "    }\n",
              "</style>\n",
              "<table border=\"1\" class=\"dataframe\">\n",
              "  <thead>\n",
              "    <tr style=\"text-align: right;\">\n",
              "      <th></th>\n",
              "      <th>order_id</th>\n",
              "      <th>customer_id</th>\n",
              "      <th>product_id</th>\n",
              "      <th>quantity</th>\n",
              "      <th>timestamp</th>\n",
              "    </tr>\n",
              "  </thead>\n",
              "  <tbody>\n",
              "    <tr>\n",
              "      <th>0</th>\n",
              "      <td>1</td>\n",
              "      <td>2</td>\n",
              "      <td>3</td>\n",
              "      <td>1</td>\n",
              "      <td>2017-01-01</td>\n",
              "    </tr>\n",
              "    <tr>\n",
              "      <th>1</th>\n",
              "      <td>2</td>\n",
              "      <td>2</td>\n",
              "      <td>2</td>\n",
              "      <td>3</td>\n",
              "      <td>2017-01-01</td>\n",
              "    </tr>\n",
              "    <tr>\n",
              "      <th>2</th>\n",
              "      <td>3</td>\n",
              "      <td>3</td>\n",
              "      <td>1</td>\n",
              "      <td>1</td>\n",
              "      <td>2017-01-01</td>\n",
              "    </tr>\n",
              "    <tr>\n",
              "      <th>3</th>\n",
              "      <td>4</td>\n",
              "      <td>3</td>\n",
              "      <td>2</td>\n",
              "      <td>2</td>\n",
              "      <td>2017-02-01</td>\n",
              "    </tr>\n",
              "    <tr>\n",
              "      <th>4</th>\n",
              "      <td>6</td>\n",
              "      <td>1</td>\n",
              "      <td>4</td>\n",
              "      <td>2</td>\n",
              "      <td>2017-03-01</td>\n",
              "    </tr>\n",
              "  </tbody>\n",
              "</table>\n",
              "</div>"
            ],
            "text/plain": [
              "   order_id  customer_id  product_id  quantity   timestamp\n",
              "0         1            2           3         1  2017-01-01\n",
              "1         2            2           2         3  2017-01-01\n",
              "2         3            3           1         1  2017-01-01\n",
              "3         4            3           2         2  2017-02-01\n",
              "4         6            1           4         2  2017-03-01"
            ]
          },
          "metadata": {
            "tags": []
          },
          "execution_count": 32
        }
      ]
    },
    {
      "cell_type": "code",
      "metadata": {
        "id": "xvM9kTQNn_zi",
        "colab_type": "code",
        "colab": {
          "base_uri": "https://localhost:8080/",
          "height": 166
        },
        "outputId": "fc98ee2b-e5f5-4cad-977c-6e632c92a274"
      },
      "source": [
        "products = pd.read_csv('https://raw.githubusercontent.com/dinhanhthi/data-science-learning/master/codecademy-data-science/course-10%20Data%20Analysis%20with%20Pandas/products.csv')\n",
        "products.head()"
      ],
      "execution_count": 22,
      "outputs": [
        {
          "output_type": "execute_result",
          "data": {
            "text/html": [
              "<div>\n",
              "<style scoped>\n",
              "    .dataframe tbody tr th:only-of-type {\n",
              "        vertical-align: middle;\n",
              "    }\n",
              "\n",
              "    .dataframe tbody tr th {\n",
              "        vertical-align: top;\n",
              "    }\n",
              "\n",
              "    .dataframe thead th {\n",
              "        text-align: right;\n",
              "    }\n",
              "</style>\n",
              "<table border=\"1\" class=\"dataframe\">\n",
              "  <thead>\n",
              "    <tr style=\"text-align: right;\">\n",
              "      <th></th>\n",
              "      <th>product_id</th>\n",
              "      <th>description</th>\n",
              "      <th>price</th>\n",
              "    </tr>\n",
              "  </thead>\n",
              "  <tbody>\n",
              "    <tr>\n",
              "      <th>0</th>\n",
              "      <td>1</td>\n",
              "      <td>thing-a-ma-jig</td>\n",
              "      <td>5</td>\n",
              "    </tr>\n",
              "    <tr>\n",
              "      <th>1</th>\n",
              "      <td>2</td>\n",
              "      <td>whatcha-ma-call-it</td>\n",
              "      <td>10</td>\n",
              "    </tr>\n",
              "    <tr>\n",
              "      <th>2</th>\n",
              "      <td>3</td>\n",
              "      <td>doo-hickey</td>\n",
              "      <td>7</td>\n",
              "    </tr>\n",
              "    <tr>\n",
              "      <th>3</th>\n",
              "      <td>4</td>\n",
              "      <td>gizmo</td>\n",
              "      <td>3</td>\n",
              "    </tr>\n",
              "  </tbody>\n",
              "</table>\n",
              "</div>"
            ],
            "text/plain": [
              "   product_id         description  price\n",
              "0           1      thing-a-ma-jig      5\n",
              "1           2  whatcha-ma-call-it     10\n",
              "2           3          doo-hickey      7\n",
              "3           4               gizmo      3"
            ]
          },
          "metadata": {
            "tags": []
          },
          "execution_count": 22
        }
      ]
    },
    {
      "cell_type": "code",
      "metadata": {
        "id": "22Y-zFRHn_27",
        "colab_type": "code",
        "colab": {
          "base_uri": "https://localhost:8080/",
          "height": 136
        },
        "outputId": "09e548be-3300-4b4d-9ce3-0a22805feaa7"
      },
      "source": [
        "customers = pd.read_csv('https://raw.githubusercontent.com/dinhanhthi/data-science-learning/master/codecademy-data-science/course-10%20Data%20Analysis%20with%20Pandas/customers.csv')\n",
        "customers.head()"
      ],
      "execution_count": 19,
      "outputs": [
        {
          "output_type": "execute_result",
          "data": {
            "text/html": [
              "<div>\n",
              "<style scoped>\n",
              "    .dataframe tbody tr th:only-of-type {\n",
              "        vertical-align: middle;\n",
              "    }\n",
              "\n",
              "    .dataframe tbody tr th {\n",
              "        vertical-align: top;\n",
              "    }\n",
              "\n",
              "    .dataframe thead th {\n",
              "        text-align: right;\n",
              "    }\n",
              "</style>\n",
              "<table border=\"1\" class=\"dataframe\">\n",
              "  <thead>\n",
              "    <tr style=\"text-align: right;\">\n",
              "      <th></th>\n",
              "      <th>customer_id</th>\n",
              "      <th>customer_name</th>\n",
              "      <th>address</th>\n",
              "      <th>phone_number</th>\n",
              "    </tr>\n",
              "  </thead>\n",
              "  <tbody>\n",
              "    <tr>\n",
              "      <th>0</th>\n",
              "      <td>1</td>\n",
              "      <td>John Smith</td>\n",
              "      <td>123 Main St.</td>\n",
              "      <td>212-123-4567</td>\n",
              "    </tr>\n",
              "    <tr>\n",
              "      <th>1</th>\n",
              "      <td>2</td>\n",
              "      <td>Jane Doe</td>\n",
              "      <td>456 Park Ave.</td>\n",
              "      <td>949-867-5309</td>\n",
              "    </tr>\n",
              "    <tr>\n",
              "      <th>2</th>\n",
              "      <td>3</td>\n",
              "      <td>Joe Schmo</td>\n",
              "      <td>798 Broadway</td>\n",
              "      <td>112-358-1321</td>\n",
              "    </tr>\n",
              "  </tbody>\n",
              "</table>\n",
              "</div>"
            ],
            "text/plain": [
              "   customer_id customer_name        address  phone_number\n",
              "0            1    John Smith   123 Main St.  212-123-4567\n",
              "1            2      Jane Doe  456 Park Ave.  949-867-5309\n",
              "2            3     Joe Schmo   798 Broadway  112-358-1321"
            ]
          },
          "metadata": {
            "tags": []
          },
          "execution_count": 19
        }
      ]
    },
    {
      "cell_type": "code",
      "metadata": {
        "id": "4aO8PYQLn_5_",
        "colab_type": "code",
        "colab": {}
      },
      "source": [
        ""
      ],
      "execution_count": null,
      "outputs": []
    },
    {
      "cell_type": "markdown",
      "metadata": {
        "id": "ABMMXVrSbIRk",
        "colab_type": "text"
      },
      "source": [
        "# DataFrame Merging\n"
      ]
    },
    {
      "cell_type": "markdown",
      "metadata": {
        "id": "gw9n6_atm5Gm",
        "colab_type": "text"
      },
      "source": [
        "## Inner Merge"
      ]
    },
    {
      "cell_type": "code",
      "metadata": {
        "id": "gviadHlqn_9t",
        "colab_type": "code",
        "colab": {
          "base_uri": "https://localhost:8080/",
          "height": 136
        },
        "outputId": "67ae4684-a9f8-492f-f238-e88cb5ac4b8c"
      },
      "source": [
        "orders_customers = pd.merge(orders, customers)\n",
        "orders_customers.head()\n",
        "multiple_order_customers = orders_customers[orders_customers.quantity > 1]\n",
        "multiple_order_customers.head()"
      ],
      "execution_count": 36,
      "outputs": [
        {
          "output_type": "execute_result",
          "data": {
            "text/html": [
              "<div>\n",
              "<style scoped>\n",
              "    .dataframe tbody tr th:only-of-type {\n",
              "        vertical-align: middle;\n",
              "    }\n",
              "\n",
              "    .dataframe tbody tr th {\n",
              "        vertical-align: top;\n",
              "    }\n",
              "\n",
              "    .dataframe thead th {\n",
              "        text-align: right;\n",
              "    }\n",
              "</style>\n",
              "<table border=\"1\" class=\"dataframe\">\n",
              "  <thead>\n",
              "    <tr style=\"text-align: right;\">\n",
              "      <th></th>\n",
              "      <th>order_id</th>\n",
              "      <th>customer_id</th>\n",
              "      <th>product_id</th>\n",
              "      <th>quantity</th>\n",
              "      <th>timestamp</th>\n",
              "      <th>customer_name</th>\n",
              "      <th>address</th>\n",
              "      <th>phone_number</th>\n",
              "    </tr>\n",
              "  </thead>\n",
              "  <tbody>\n",
              "    <tr>\n",
              "      <th>1</th>\n",
              "      <td>2</td>\n",
              "      <td>2</td>\n",
              "      <td>2</td>\n",
              "      <td>3</td>\n",
              "      <td>2017-01-01</td>\n",
              "      <td>Jane Doe</td>\n",
              "      <td>456 Park Ave.</td>\n",
              "      <td>949-867-5309</td>\n",
              "    </tr>\n",
              "    <tr>\n",
              "      <th>3</th>\n",
              "      <td>4</td>\n",
              "      <td>3</td>\n",
              "      <td>2</td>\n",
              "      <td>2</td>\n",
              "      <td>2017-02-01</td>\n",
              "      <td>Joe Schmo</td>\n",
              "      <td>798 Broadway</td>\n",
              "      <td>112-358-1321</td>\n",
              "    </tr>\n",
              "    <tr>\n",
              "      <th>4</th>\n",
              "      <td>6</td>\n",
              "      <td>1</td>\n",
              "      <td>4</td>\n",
              "      <td>2</td>\n",
              "      <td>2017-03-01</td>\n",
              "      <td>John Smith</td>\n",
              "      <td>123 Main St.</td>\n",
              "      <td>212-123-4567</td>\n",
              "    </tr>\n",
              "  </tbody>\n",
              "</table>\n",
              "</div>"
            ],
            "text/plain": [
              "   order_id  customer_id  product_id  ...  customer_name        address  phone_number\n",
              "1         2            2           2  ...       Jane Doe  456 Park Ave.  949-867-5309\n",
              "3         4            3           2  ...      Joe Schmo   798 Broadway  112-358-1321\n",
              "4         6            1           4  ...     John Smith   123 Main St.  212-123-4567\n",
              "\n",
              "[3 rows x 8 columns]"
            ]
          },
          "metadata": {
            "tags": []
          },
          "execution_count": 36
        }
      ]
    },
    {
      "cell_type": "code",
      "metadata": {
        "id": "JlIHVXbFfxRn",
        "colab_type": "code",
        "colab": {
          "base_uri": "https://localhost:8080/",
          "height": 160
        },
        "outputId": "2b06ad3f-fcdd-47fe-f154-3db54c51f5b5"
      },
      "source": [
        "orders_customers_products = orders.merge(customers).merge(products)\n",
        "orders_customers_products.head()\n",
        "multiple_whatchmacallits = orders_customers_products[(orders_customers_products.description == 'whatcha-ma-call-it') & (orders_customers_products.quantity > 1)]\n",
        "multiple_whatchmacallits.head()"
      ],
      "execution_count": 41,
      "outputs": [
        {
          "output_type": "execute_result",
          "data": {
            "text/html": [
              "<div>\n",
              "<style scoped>\n",
              "    .dataframe tbody tr th:only-of-type {\n",
              "        vertical-align: middle;\n",
              "    }\n",
              "\n",
              "    .dataframe tbody tr th {\n",
              "        vertical-align: top;\n",
              "    }\n",
              "\n",
              "    .dataframe thead th {\n",
              "        text-align: right;\n",
              "    }\n",
              "</style>\n",
              "<table border=\"1\" class=\"dataframe\">\n",
              "  <thead>\n",
              "    <tr style=\"text-align: right;\">\n",
              "      <th></th>\n",
              "      <th>order_id</th>\n",
              "      <th>customer_id</th>\n",
              "      <th>product_id</th>\n",
              "      <th>quantity</th>\n",
              "      <th>timestamp</th>\n",
              "      <th>customer_name</th>\n",
              "      <th>address</th>\n",
              "      <th>phone_number</th>\n",
              "      <th>description</th>\n",
              "      <th>price</th>\n",
              "    </tr>\n",
              "  </thead>\n",
              "  <tbody>\n",
              "    <tr>\n",
              "      <th>1</th>\n",
              "      <td>2</td>\n",
              "      <td>2</td>\n",
              "      <td>2</td>\n",
              "      <td>3</td>\n",
              "      <td>2017-01-01</td>\n",
              "      <td>Jane Doe</td>\n",
              "      <td>456 Park Ave.</td>\n",
              "      <td>949-867-5309</td>\n",
              "      <td>whatcha-ma-call-it</td>\n",
              "      <td>10</td>\n",
              "    </tr>\n",
              "    <tr>\n",
              "      <th>2</th>\n",
              "      <td>4</td>\n",
              "      <td>3</td>\n",
              "      <td>2</td>\n",
              "      <td>2</td>\n",
              "      <td>2017-02-01</td>\n",
              "      <td>Joe Schmo</td>\n",
              "      <td>798 Broadway</td>\n",
              "      <td>112-358-1321</td>\n",
              "      <td>whatcha-ma-call-it</td>\n",
              "      <td>10</td>\n",
              "    </tr>\n",
              "  </tbody>\n",
              "</table>\n",
              "</div>"
            ],
            "text/plain": [
              "   order_id  customer_id  product_id  ...  phone_number         description price\n",
              "1         2            2           2  ...  949-867-5309  whatcha-ma-call-it    10\n",
              "2         4            3           2  ...  112-358-1321  whatcha-ma-call-it    10\n",
              "\n",
              "[2 rows x 10 columns]"
            ]
          },
          "metadata": {
            "tags": []
          },
          "execution_count": 41
        }
      ]
    },
    {
      "cell_type": "markdown",
      "metadata": {
        "id": "yLNUUQx3mu1A",
        "colab_type": "text"
      },
      "source": [
        "## Outer Merge, Left Merge, Right Merge"
      ]
    },
    {
      "cell_type": "code",
      "metadata": {
        "id": "SVMzpB82mx0b",
        "colab_type": "code",
        "colab": {}
      },
      "source": [
        "## ab_all = pd.merge(a, b, how='outer')\n",
        "## ab_all = a.merge(b, how='outer')\n",
        "## ab_left = pd.merge(a, b, how='left')\n",
        "## ab_right = pd.merge(a, b, how='right')"
      ],
      "execution_count": null,
      "outputs": []
    },
    {
      "cell_type": "markdown",
      "metadata": {
        "id": "JK0CrSdYo5lm",
        "colab_type": "text"
      },
      "source": [
        "## Concatenate"
      ]
    },
    {
      "cell_type": "code",
      "metadata": {
        "id": "08Pg7ax7pJGe",
        "colab_type": "code",
        "colab": {}
      },
      "source": [
        "## a_and_b = pd.concat([a, b])"
      ],
      "execution_count": null,
      "outputs": []
    }
  ]
}